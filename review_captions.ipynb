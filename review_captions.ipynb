{
 "cells": [
  {
   "cell_type": "code",
   "execution_count": 21,
   "metadata": {
    "collapsed": true
   },
   "outputs": [],
   "source": [
    "import json\n",
    "import os\n",
    "import matplotlib.pyplot as plt\n",
    "import matplotlib.image as mpimg\n",
    "%matplotlib inline\n"
   ]
  },
  {
   "cell_type": "code",
   "execution_count": 22,
   "metadata": {
    "collapsed": true
   },
   "outputs": [],
   "source": [
    "record_json = './debugging.json'\n",
    "image_dir = './data/images'\n",
    "\n",
    "with open(record_json, 'r') as f:\n",
    "    data = json.load(f)\n"
   ]
  },
  {
   "cell_type": "code",
   "execution_count": 23,
   "metadata": {
    "collapsed": true
   },
   "outputs": [],
   "source": [
    "def show_image(image_id):\n",
    "    image = mpimg.imread(os.path.join(image_dir, image_id))\n",
    "    plt.imshow(image)\n",
    "    plt.axis('off')\n",
    "    plt.show()\n",
    "\n",
    "def get_real_tags(item):\n",
    "    array = []\n",
    "    for each in item['Real Tags']:\n",
    "        if each in item['Pred Tags']:\n",
    "            array.append(\"\\033[4;35m{}\\033[0m\".format(each))\n",
    "        else:\n",
    "            array.append(each)\n",
    "    return ', '.join(array)\n",
    "\n",
    "def get_pred_tags(item):\n",
    "    return ', '.join(item['Pred Tags'])\n",
    "\n",
    "def get_sentence(item):\n",
    "    for i in range(max(len(item['Real Sent']), len(item['Pred Sent']))):\n",
    "        print(\"Sentence {}:\".format(i))\n",
    "        try:\n",
    "            real_sent = item['Real Sent'][str(i)]\n",
    "        except Exception as _:\n",
    "            real_sent = \"\"\n",
    "        try:\n",
    "            pred_sent = item['Pred Sent'][str(i)]\n",
    "        except Exception as _:\n",
    "            pred_sent = \"\"\n",
    "        \n",
    "        print(\"Real: {}\".format(real_sent))\n",
    "        print(\"Pred: {}\".format(pred_sent))\n",
    "        print(\"\")\n",
    "\n",
    "def get_tags_peformance(data):\n",
    "    num_ground_truth = 0\n",
    "    num_pred_all = 0\n",
    "    num_pred_truth = 0\n",
    "    for each in data:\n",
    "        num_ground_truth += len(data[each]['Real Tags'])\n",
    "        num_pred_all += len(data[each]['Pred Tags'])\n",
    "        for tag in data[each]['Pred Tags']:\n",
    "            if tag in data[each]['Real Tags']:\n",
    "                num_pred_truth += 1\n",
    "    return num_pred_truth / num_ground_truth * 1.0, num_pred_truth / num_pred_all * 1.0\n"
   ]
  },
  {
   "cell_type": "markdown",
   "metadata": {},
   "source": [
    "## Image id:"
   ]
  },
  {
   "cell_type": "code",
   "execution_count": 24,
   "metadata": {},
   "outputs": [
    {
     "name": "stdout",
     "output_type": "stream",
     "text": [
      "CXR932_IM-2430-3001.png\n",
      "CXR1149_IM-0101-1001.png\n",
      "CXR3976_IM-2035-1001.png\n",
      "CXR1972_IM-0633-1001.png\n"
     ]
    }
   ],
   "source": [
    "images_id = []\n",
    "for each in data:\n",
    "    print(each)\n",
    "    images_id.append(each)\n"
   ]
  },
  {
   "cell_type": "code",
   "execution_count": 25,
   "metadata": {},
   "outputs": [
    {
     "name": "stdout",
     "output_type": "stream",
     "text": [
      "Recall:0.42857142857142855\n",
      "Precision:0.075\n"
     ]
    }
   ],
   "source": [
    "recall, precision = get_tags_peformance(data)\n",
    "print(\"Recall:{}\".format(recall))\n",
    "print(\"Precision:{}\".format(precision))\n"
   ]
  },
  {
   "cell_type": "markdown",
   "metadata": {},
   "source": [
    "## Preview"
   ]
  },
  {
   "cell_type": "code",
   "execution_count": 26,
   "metadata": {
    "collapsed": true
   },
   "outputs": [],
   "source": [
    "def show_info(id):\n",
    "    image_id = images_id[id]\n",
    "    item = data[image_id]\n",
    "    print(\"Image:\")\n",
    "    # show_image(image_id)\n",
    "\n",
    "    print(\"Real Tags: {}\".format(get_real_tags(item)))\n",
    "    print(\"Pred Tags: {}\".format(get_pred_tags(item)))\n",
    "    print(\"\")\n",
    "    get_sentence(item)\n"
   ]
  },
  {
   "cell_type": "code",
   "execution_count": 27,
   "metadata": {},
   "outputs": [
    {
     "name": "stdout",
     "output_type": "stream",
     "text": [
      "Image:\n",
      "Real Tags: \u001b[4;35mcalcified granuloma\u001b[0m\n",
      "Pred Tags: calcified granuloma, chronic disease, pneumonia, atelectases, opacity, nipple, kyphoses, thoracic vertebrae, cabg, multiple myeloma\n",
      "\n",
      "Sentence 0:\n",
      "Real: no acute cardiopulmonary abnormality\n",
      "Pred: several calcified granulomas in bilateral hilar regions\n",
      "\n",
      "Sentence 1:\n",
      "Real: several calcified granulomas in bilateral hilar regions\n",
      "Pred: the trachea is midline\n",
      "\n",
      "Sentence 2:\n",
      "Real: the trachea is midline\n",
      "Pred: the trachea is midline\n",
      "\n",
      "Sentence 3:\n",
      "Real: negative for pneumothorax pleural effusion or focal airspace consolidation\n",
      "Pred: the heart size is <unk>\n",
      "\n",
      "Sentence 4:\n",
      "Real: the heart size is <unk>\n",
      "Pred: the heart size is <unk>\n",
      "\n",
      "Sentence 5:\n",
      "Real: \n",
      "Pred: \n",
      "\n"
     ]
    }
   ],
   "source": [
    "show_info(1)"
   ]
  },
  {
   "cell_type": "code",
   "execution_count": 28,
   "metadata": {},
   "outputs": [
    {
     "name": "stdout",
     "output_type": "stream",
     "text": [
      "Image:\n",
      "Real Tags: \u001b[4;35mnormal\u001b[0m\n",
      "Pred Tags: normal, atelectasis, atelectases, obstructive lung disease, pneumonitis, lung diseases, interstitial, calcifications of the aorta, chronic lung disease, granulomatous infection, chronic obstructive pulmonary disease\n",
      "\n",
      "Sentence 0:\n",
      "Real: no acute cardiopulmonary process\n",
      "Pred: no acute cardiopulmonary process\n",
      "\n",
      "Sentence 1:\n",
      "Real: heart size and mediastinal contour are normal\n",
      "Pred: no acute cardiopulmonary process\n",
      "\n",
      "Sentence 2:\n",
      "Real: pulmonary vascularity is normal\n",
      "Pred: heart size and mediastinal contour are normal\n",
      "\n",
      "Sentence 3:\n",
      "Real: lungs are clear\n",
      "Pred: lungs are clear\n",
      "\n",
      "Sentence 4:\n",
      "Real: no pleural effusions or <unk>\n",
      "Pred: lungs are clear\n",
      "\n",
      "Sentence 5:\n",
      "Real: \n",
      "Pred: \n",
      "\n"
     ]
    }
   ],
   "source": [
    "show_info(2)"
   ]
  },
  {
   "cell_type": "code",
   "execution_count": 29,
   "metadata": {},
   "outputs": [
    {
     "name": "stdout",
     "output_type": "stream",
     "text": [
      "Image:\n",
      "Real Tags: pneumonia, opacity, atelectasis, atelectases\n",
      "Pred Tags: mastectomies, shoulder, right upper lobe pneumonia, large hiatal hernia, hydropneumothorax, collapse, pacemaker, artificial, scleroses, lymphatic diseases, pleural effusion\n",
      "\n",
      "Sentence 0:\n",
      "Real: xxxx airspace opacity in the left upper lung which may represent streaky atelectasis or resolving pneumonia\n",
      "Pred: xxxx airspace opacity in the left upper lung which may represent streaky atelectasis or resolving pneumonia\n",
      "\n",
      "Sentence 1:\n",
      "Real: there is a xxxx airspace opacity in the left upper lung\n",
      "Pred: xxxx airspace opacity in the left upper lung which may represent streaky atelectasis or resolving pneumonia\n",
      "\n",
      "Sentence 2:\n",
      "Real: heart size within normal limits\n",
      "Pred: heart size within normal limits\n",
      "\n",
      "Sentence 3:\n",
      "Real: mild calcification of the aortic xxxx\n",
      "Pred: heart size within normal limits\n",
      "\n",
      "Sentence 4:\n",
      "Real: no pneumothorax or pleural <unk>\n",
      "Pred: no pneumothorax or pleural <unk>\n",
      "\n",
      "Sentence 5:\n",
      "Real: \n",
      "Pred: no pneumothorax or pleural <unk>\n",
      "\n"
     ]
    }
   ],
   "source": [
    "show_info(3)"
   ]
  },
  {
   "cell_type": "code",
   "execution_count": 30,
   "metadata": {},
   "outputs": [
    {
     "name": "stdout",
     "output_type": "stream",
     "text": [
      "Image:\n",
      "Real Tags: \u001b[4;35mnormal\u001b[0m\n",
      "Pred Tags: normal, atelectasis, atelectases, obstructive lung disease, chronic disease, scarring, chronic obstructive pulmonary disease, calcinosis, ribs, discoid atelectasis\n",
      "\n",
      "Sentence 0:\n",
      "Real: negative for acute cardiopulmonary <unk>\n",
      "Pred: negative for acute cardiopulmonary <unk>\n",
      "\n",
      "Sentence 1:\n",
      "Real: \n",
      "Pred: \n",
      "\n",
      "Sentence 2:\n",
      "Real: \n",
      "Pred: \n",
      "\n",
      "Sentence 3:\n",
      "Real: \n",
      "Pred: \n",
      "\n",
      "Sentence 4:\n",
      "Real: \n",
      "Pred: \n",
      "\n",
      "Sentence 5:\n",
      "Real: \n",
      "Pred: \n",
      "\n"
     ]
    }
   ],
   "source": [
    "show_info(0)"
   ]
  }
 ],
 "metadata": {
  "kernelspec": {
   "display_name": "Python 3",
   "language": "python",
   "name": "python3"
  },
  "language_info": {
   "codemirror_mode": {
    "name": "ipython",
    "version": 3
   },
   "file_extension": ".py",
   "mimetype": "text/x-python",
   "name": "python",
   "nbconvert_exporter": "python",
   "pygments_lexer": "ipython3",
   "version": "3.5.1"
  }
 },
 "nbformat": 4,
 "nbformat_minor": 2
}
